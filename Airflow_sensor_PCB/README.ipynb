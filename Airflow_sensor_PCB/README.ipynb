{
 "cells": [
  {
   "cell_type": "markdown",
   "metadata": {},
   "source": [
    "### __Airflow sensor PCB__\n",
    "Documentation of the custom PCB used for operating the respiration and flow sensors. The PCB was designed using [<u>KiCad</u>](https://www.kicad.org/) and ordered from [<u>Eurocircuits</u>](https://www.eurocircuits.com/). The following parts were soldered onto the board in house:\n",
    "\n",
    "- [<u>BNC socket</u>](https://de.rs-online.com/web/p/koaxial-steckverbinder/3941055)\n",
    "- [<u>Power connector socket</u>](https://www.conrad.de/de/p/cliff-dc-10lp-niedervolt-steckverbinder-buchse-einbau-horizontal-4-mm-2-1-mm-1-st-735705.html)\n",
    "- [<u>IDC 3 pin connector</u>](https://de.rs-online.com/web/p/idc-steckverbinder/6803394)\n",
    "\n",
    "STEP file for a custom holder can be found in the folder."
   ]
  }
 ],
 "metadata": {
  "language_info": {
   "name": "python"
  }
 },
 "nbformat": 4,
 "nbformat_minor": 2
}
